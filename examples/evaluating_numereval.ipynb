{
  "nbformat": 4,
  "nbformat_minor": 0,
  "metadata": {
    "accelerator": "GPU",
    "colab": {
      "name": "evaluating_numereval.ipynb",
      "provenance": [],
      "collapsed_sections": [],
      "include_colab_link": true
    },
    "kernelspec": {
      "display_name": "Python 3",
      "name": "python3",
      "language": "python"
    }
  },
  "cells": [
    {
      "cell_type": "markdown",
      "metadata": {
        "id": "view-in-github",
        "colab_type": "text"
      },
      "source": [
        "<a href=\"https://colab.research.google.com/github/parmarsuraj99/numereval/blob/master/examples/evaluating_numereval.ipynb\" target=\"_parent\"><img src=\"https://colab.research.google.com/assets/colab-badge.svg\" alt=\"Open In Colab\"/></a>"
      ]
    },
    {
      "cell_type": "markdown",
      "metadata": {
        "id": "l2bmWvp67UI0"
      },
      "source": [
        "## Evaluating Numereval"
      ]
    },
    {
      "cell_type": "markdown",
      "metadata": {
        "id": "kfP3XxV4AzjP"
      },
      "source": [
        "## Loading Libraries"
      ]
    },
    {
      "cell_type": "code",
      "metadata": {
        "colab": {
          "base_uri": "https://localhost:8080/"
        },
        "id": "waZGwMKsAigO",
        "outputId": "65ffbc87-ea1e-44be-8807-cb205ce7f36d"
      },
      "source": [
        "!pip install numerapi\r\n",
        "!pip install numereval"
      ],
      "execution_count": 1,
      "outputs": [
        {
          "output_type": "stream",
          "name": "stdout",
          "text": [
            "Requirement already satisfied: numerapi in c:\\users\\new\\anaconda3\\lib\\site-packages (2.3.8)\n",
            "Requirement already satisfied: requests in c:\\users\\new\\anaconda3\\lib\\site-packages (from numerapi) (2.24.0)\n",
            "Requirement already satisfied: click>=7.0 in c:\\users\\new\\anaconda3\\lib\\site-packages (from numerapi) (7.1.2)\n",
            "Requirement already satisfied: python-dateutil in c:\\users\\new\\anaconda3\\lib\\site-packages (from numerapi) (2.8.1)\n",
            "Requirement already satisfied: pytz in c:\\users\\new\\anaconda3\\lib\\site-packages (from numerapi) (2020.1)\n",
            "Requirement already satisfied: tqdm>=4.29.1 in c:\\users\\new\\anaconda3\\lib\\site-packages (from numerapi) (4.50.2)\n",
            "Requirement already satisfied: urllib3!=1.25.0,!=1.25.1,<1.26,>=1.21.1 in c:\\users\\new\\anaconda3\\lib\\site-packages (from requests->numerapi) (1.25.11)\n",
            "Requirement already satisfied: idna<3,>=2.5 in c:\\users\\new\\anaconda3\\lib\\site-packages (from requests->numerapi) (2.10)\n",
            "Requirement already satisfied: certifi>=2017.4.17 in c:\\users\\new\\anaconda3\\lib\\site-packages (from requests->numerapi) (2020.6.20)\n",
            "Requirement already satisfied: chardet<4,>=3.0.2 in c:\\users\\new\\anaconda3\\lib\\site-packages (from requests->numerapi) (3.0.4)\n",
            "Requirement already satisfied: six>=1.5 in c:\\users\\new\\appdata\\roaming\\python\\python38\\site-packages (from python-dateutil->numerapi) (1.15.0)\n",
            "Collecting numereval\n",
            "  Downloading numereval-0.1-py3-none-any.whl (6.1 kB)\n",
            "Installing collected packages: numereval\n",
            "Successfully installed numereval-0.1\n"
          ]
        }
      ]
    },
    {
      "cell_type": "code",
      "metadata": {
        "id": "jywU-FxjAifT",
        "colab": {
          "base_uri": "https://localhost:8080/"
        },
        "outputId": "762450fd-4a10-40f9-f0b9-de74f13551ee"
      },
      "source": [
        "import os\n",
        "import re\n",
        "import gc\n",
        "import csv\n",
        "import glob\n",
        "import time\n",
        "from tqdm.auto import tqdm\n",
        "import warnings\n",
        "warnings.filterwarnings(\"ignore\")\n",
        "import numerapi\n",
        "import scipy\n",
        "import numpy as np\n",
        "import pandas as pd\n",
        "import matplotlib.pyplot as plt"
      ],
      "execution_count": 24,
      "outputs": [
        {
          "output_type": "stream",
          "text": [
            "The memory_profiler extension is already loaded. To reload it, use:\n",
            "  %reload_ext memory_profiler\n"
          ],
          "name": "stdout"
        }
      ]
    },
    {
      "cell_type": "code",
      "metadata": {
        "colab": {
          "base_uri": "https://localhost:8080/"
        },
        "id": "KHDhP4TJAiZz",
        "outputId": "aebf695c-525f-4c30-be54-ef8927303f49"
      },
      "source": [
        "napi = numerapi.NumerAPI(verbosity=\"info\")\r\n",
        "napi.download_current_dataset(unzip=True)\r\n",
        "\r\n",
        "latest_round = napi.get_current_round()\r\n",
        "current_ds = os.path.join('numerai_dataset_'+str(latest_round),'')"
      ],
      "execution_count": 26,
      "outputs": [
        {
          "output_type": "stream",
          "text": [
            "2020-12-28 15:13:38,462 INFO numerapi.base_api: target file already exists\n"
          ],
          "name": "stderr"
        }
      ]
    },
    {
      "cell_type": "code",
      "metadata": {
        "id": "UiWPg6WtA8En"
      },
      "source": [
        "TOURNAMENT_NAME = \"nomi\"\r\n",
        "TARGET_NAME = f\"target\"\r\n",
        "PREDICTION_NAME = f\"prediction\"\r\n",
        "\r\n",
        "# Submissions are scored by spearman correlation\r\n",
        "def correlation(predictions, targets):\r\n",
        "    ranked_preds = predictions.rank(pct=True, method=\"first\")\r\n",
        "    return np.corrcoef(ranked_preds, targets)[0, 1]\r\n",
        "\r\n",
        "\r\n",
        "# convenience method for scoring\r\n",
        "def score(df):\r\n",
        "    return correlation(df[PREDICTION_NAME], df[TARGET_NAME])\r\n",
        "\r\n",
        "\r\n",
        "# Payout is just the score cliped at +/-25%\r\n",
        "def payout(scores):\r\n",
        "    return scores.clip(lower=-0.25, upper=0.25)\r\n",
        "\r\n",
        "\r\n",
        "# Read the csv file into a pandas Dataframe as float16 to save space\r\n",
        "def read_csv(file_path):\r\n",
        "    with open(file_path, 'r') as f:\r\n",
        "        column_names = next(csv.reader(f))\r\n",
        "\r\n",
        "    dtypes = {x: np.float16 for x in column_names if x.startswith(('feature', 'target'))}\r\n",
        "    df = pd.read_csv(file_path, dtype=dtypes, index_col=0)\r\n",
        "\r\n",
        "    return df\r\n"
      ],
      "execution_count": 27,
      "outputs": []
    },
    {
      "cell_type": "code",
      "metadata": {
        "colab": {
          "base_uri": "https://localhost:8080/"
        },
        "id": "xk_aSYgwBIJI",
        "outputId": "291ff297-c49b-4b10-a329-b047801acbab"
      },
      "source": [
        "%%time\r\n",
        "print(\"Loading data...\")\r\n",
        "\r\n",
        "training_data = read_csv(f\"{current_ds}/numerai_training_data.csv\")\r\n",
        "tournament_data = read_csv(f\"{current_ds}/numerai_tournament_data.csv\")\r\n",
        "example_preds = read_csv(f\"{current_ds}/example_predictions.csv\")\r\n",
        "validation_data = tournament_data[tournament_data.data_type == \"validation\"]\r\n",
        "\r\n",
        "feature_names = [\r\n",
        "    f for f in training_data.columns if f.startswith(\"feature\")\r\n",
        "]\r\n",
        "print(f\"Loaded {len(feature_names)} features\")"
      ],
      "execution_count": 6,
      "outputs": [
        {
          "output_type": "stream",
          "text": [
            "Loading data...\n",
            "Loaded 310 features\n",
            "CPU times: user 53.1 s, sys: 2.99 s, total: 56.1 s\n",
            "Wall time: 1min\n"
          ],
          "name": "stdout"
        }
      ]
    },
    {
      "cell_type": "markdown",
      "metadata": {
        "id": "LAHwPKvDRi3o"
      },
      "source": [
        "## predictions"
      ]
    },
    {
      "cell_type": "code",
      "metadata": {
        "colab": {
          "base_uri": "https://localhost:8080/"
        },
        "id": "_Bh62fcTDJ4f",
        "outputId": "fb39d60b-cb7e-4aab-f3e6-3badfb8b4b8c"
      },
      "source": [
        "print(\"Generating predictions...\")\r\n",
        "training_data[PREDICTION_NAME] = np.random.random((len(training_data)))\r\n",
        "tournament_data[PREDICTION_NAME] = np.random.random((len(tournament_data)))"
      ],
      "execution_count": 30,
      "outputs": [
        {
          "output_type": "stream",
          "text": [
            "Generating predictions...\n"
          ],
          "name": "stdout"
        }
      ]
    },
    {
      "cell_type": "code",
      "metadata": {
        "id": "2vGXb6t1SUMg"
      },
      "source": [
        "from numereval import numereval"
      ],
      "execution_count": 33,
      "outputs": []
    },
    {
      "cell_type": "code",
      "metadata": {
        "colab": {
          "base_uri": "https://localhost:8080/",
          "height": 636
        },
        "id": "IEsIKYod5NuU",
        "outputId": "082ac119-07b5-4667-f9f7-e65db75e759a"
      },
      "source": [
        "validation_data.reset_index(level=0, inplace=True)\n",
        "numereval.diagnostics(validation_data, plot=True, \n",
        "                                example_preds_loc=\"/content/numerai_dataset_244/example_predictions.csv\")"
      ],
      "execution_count": 34,
      "outputs": [
        {
          "output_type": "display_data",
          "data": {
            "image/png": "[encoded data removed]",
            "text/plain": [
              "<Figure size 432x288 with 1 Axes>"
            ]
          },
          "metadata": {
            "tags": [],
            "needs_background": "light"
          }
        },
        {
          "output_type": "execute_result",
          "data": {
            "text/html": [
              "<div>\n",
              "<style scoped>\n",
              "    .dataframe tbody tr th:only-of-type {\n",
              "        vertical-align: middle;\n",
              "    }\n",
              "\n",
              "    .dataframe tbody tr th {\n",
              "        vertical-align: top;\n",
              "    }\n",
              "\n",
              "    .dataframe thead th {\n",
              "        text-align: right;\n",
              "    }\n",
              "</style>\n",
              "<table border=\"1\" class=\"dataframe\">\n",
              "  <thead>\n",
              "    <tr style=\"text-align: right;\">\n",
              "      <th></th>\n",
              "      <th>0</th>\n",
              "    </tr>\n",
              "  </thead>\n",
              "  <tbody>\n",
              "    <tr>\n",
              "      <th>mean</th>\n",
              "      <td>-0.004367</td>\n",
              "    </tr>\n",
              "    <tr>\n",
              "      <th>std</th>\n",
              "      <td>0.016012</td>\n",
              "    </tr>\n",
              "    <tr>\n",
              "      <th>sharpe</th>\n",
              "      <td>-0.272758</td>\n",
              "    </tr>\n",
              "    <tr>\n",
              "      <th>max_drawdown</th>\n",
              "      <td>-0.111516</td>\n",
              "    </tr>\n",
              "    <tr>\n",
              "      <th>max_feature_exp</th>\n",
              "      <td>0.423563</td>\n",
              "    </tr>\n",
              "    <tr>\n",
              "      <th>feature_exposure</th>\n",
              "      <td>0.145858</td>\n",
              "    </tr>\n",
              "    <tr>\n",
              "      <th>mmc_mean</th>\n",
              "      <td>-0.002824</td>\n",
              "    </tr>\n",
              "    <tr>\n",
              "      <th>corr_plus_mmc_sharpe</th>\n",
              "      <td>-0.252898</td>\n",
              "    </tr>\n",
              "    <tr>\n",
              "      <th>corr_plus_mmc_diff</th>\n",
              "      <td>0.019859</td>\n",
              "    </tr>\n",
              "  </tbody>\n",
              "</table>\n",
              "</div>"
            ],
            "text/plain": [
              "                             0\n",
              "mean                 -0.004367\n",
              "std                   0.016012\n",
              "sharpe               -0.272758\n",
              "max_drawdown         -0.111516\n",
              "max_feature_exp       0.423563\n",
              "feature_exposure      0.145858\n",
              "mmc_mean             -0.002824\n",
              "corr_plus_mmc_sharpe -0.252898\n",
              "corr_plus_mmc_diff    0.019859"
            ]
          },
          "metadata": {
            "tags": []
          },
          "execution_count": 34
        }
      ]
    },
    {
      "cell_type": "code",
      "metadata": {
        "colab": {
          "base_uri": "https://localhost:8080/",
          "height": 542
        },
        "id": "eK20Fo235NqF",
        "outputId": "b6d666e6-846b-4912-b9ee-6a59c45fe3e7"
      },
      "source": [
        "numereval.evaluate(training_data, plot=True, feature_exposure=True)"
      ],
      "execution_count": 35,
      "outputs": [
        {
          "output_type": "display_data",
          "data": {
            "image/png": "[encoded data removed]",
            "text/plain": [
              "<Figure size 432x288 with 1 Axes>"
            ]
          },
          "metadata": {
            "tags": [],
            "needs_background": "light"
          }
        },
        {
          "output_type": "execute_result",
          "data": {
            "text/html": [
              "<div>\n",
              "<style scoped>\n",
              "    .dataframe tbody tr th:only-of-type {\n",
              "        vertical-align: middle;\n",
              "    }\n",
              "\n",
              "    .dataframe tbody tr th {\n",
              "        vertical-align: top;\n",
              "    }\n",
              "\n",
              "    .dataframe thead th {\n",
              "        text-align: right;\n",
              "    }\n",
              "</style>\n",
              "<table border=\"1\" class=\"dataframe\">\n",
              "  <thead>\n",
              "    <tr style=\"text-align: right;\">\n",
              "      <th></th>\n",
              "      <th>0</th>\n",
              "    </tr>\n",
              "  </thead>\n",
              "  <tbody>\n",
              "    <tr>\n",
              "      <th>mean</th>\n",
              "      <td>0.001030</td>\n",
              "    </tr>\n",
              "    <tr>\n",
              "      <th>std</th>\n",
              "      <td>0.015149</td>\n",
              "    </tr>\n",
              "    <tr>\n",
              "      <th>sharpe</th>\n",
              "      <td>0.067973</td>\n",
              "    </tr>\n",
              "    <tr>\n",
              "      <th>max_drawdown</th>\n",
              "      <td>-0.108731</td>\n",
              "    </tr>\n",
              "    <tr>\n",
              "      <th>max_feature_exp</th>\n",
              "      <td>0.045190</td>\n",
              "    </tr>\n",
              "    <tr>\n",
              "      <th>feature_exposure</th>\n",
              "      <td>0.001297</td>\n",
              "    </tr>\n",
              "  </tbody>\n",
              "</table>\n",
              "</div>"
            ],
            "text/plain": [
              "                         0\n",
              "mean              0.001030\n",
              "std               0.015149\n",
              "sharpe            0.067973\n",
              "max_drawdown     -0.108731\n",
              "max_feature_exp   0.045190\n",
              "feature_exposure  0.001297"
            ]
          },
          "metadata": {
            "tags": []
          },
          "execution_count": 35
        }
      ]
    },
    {
      "cell_type": "code",
      "metadata": {
        "id": "EgBZfua0C1HK"
      },
      "source": [],
      "execution_count": null,
      "outputs": []
    },
    {
      "cell_type": "markdown",
      "metadata": {
        "id": "113ZCMJw7YoA"
      },
      "source": [
        "---"
      ]
    },
    {
      "cell_type": "markdown",
      "metadata": {
        "id": "IbYGhn796zMY"
      },
      "source": [
        "Future work: More customization and Signals metrics"
      ]
    }
  ]
}