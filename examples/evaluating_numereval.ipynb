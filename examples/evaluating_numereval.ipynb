{
  "nbformat": 4,
  "nbformat_minor": 0,
  "metadata": {
    "accelerator": "GPU",
    "colab": {
      "name": "evaluating_numereval.ipynb",
      "provenance": [],
      "collapsed_sections": [],
      "include_colab_link": true
    },
    "kernelspec": {
      "display_name": "Python 3",
      "name": "python3"
    }
  },
  "cells": [
    {
      "cell_type": "markdown",
      "metadata": {
        "id": "view-in-github",
        "colab_type": "text"
      },
      "source": [
        "<a href=\"https://colab.research.google.com/github/parmarsuraj99/numereval/blob/master/examples/evaluating_numereval.ipynb\" target=\"_parent\"><img src=\"https://colab.research.google.com/assets/colab-badge.svg\" alt=\"Open In Colab\"/></a>"
      ]
    },
    {
      "cell_type": "markdown",
      "metadata": {
        "id": "l2bmWvp67UI0"
      },
      "source": [
        "## Evaluating Numereval"
      ]
    },
    {
      "cell_type": "code",
      "metadata": {
        "id": "waZGwMKsAigO"
      },
      "source": [
        "!pip install numerapi\r\n",
        "!pip install numereval"
      ],
      "execution_count": null,
      "outputs": []
    },
    {
      "cell_type": "markdown",
      "metadata": {
        "id": "kfP3XxV4AzjP"
      },
      "source": [
        "## Loading Libraries"
      ]
    },
    {
      "cell_type": "code",
      "metadata": {
        "id": "jywU-FxjAifT"
      },
      "source": [
        "import os\r\n",
        "import re\r\n",
        "import gc\r\n",
        "import csv\r\n",
        "import glob\r\n",
        "import time\r\n",
        "from tqdm.auto import tqdm\r\n",
        "import warnings\r\n",
        "warnings.filterwarnings(\"ignore\")\r\n",
        "\r\n",
        "import numerapi\r\n",
        "\r\n",
        "import scipy\r\n",
        "import numpy as np\r\n",
        "import pandas as pd\r\n",
        "import matplotlib.pyplot as plt"
      ],
      "execution_count": 2,
      "outputs": []
    },
    {
      "cell_type": "code",
      "metadata": {
        "colab": {
          "base_uri": "https://localhost:8080/"
        },
        "id": "KHDhP4TJAiZz",
        "outputId": "cd3b2c37-406b-4a6b-b3fa-62ae9787ee7b"
      },
      "source": [
        "napi = numerapi.NumerAPI(verbosity=\"info\")\r\n",
        "napi.download_current_dataset(unzip=True)\r\n",
        "\r\n",
        "latest_round = napi.get_current_round()\r\n",
        "current_ds = os.path.join('numerai_dataset_'+str(latest_round),'')"
      ],
      "execution_count": 3,
      "outputs": [
        {
          "output_type": "stream",
          "text": [
            "./numerai_dataset_249.zip: 389MB [00:05, 70.7MB/s]                           \n",
            "2021-02-06 13:08:02,558 INFO numerapi.base_api: unzipping file...\n"
          ],
          "name": "stderr"
        }
      ]
    },
    {
      "cell_type": "code",
      "metadata": {
        "id": "UiWPg6WtA8En"
      },
      "source": [
        "TOURNAMENT_NAME = \"nomi\"\r\n",
        "TARGET_NAME = f\"target\"\r\n",
        "PREDICTION_NAME = f\"prediction\"\r\n",
        "\r\n",
        "# Submissions are scored by spearman correlation\r\n",
        "def correlation(predictions, targets):\r\n",
        "    ranked_preds = predictions.rank(pct=True, method=\"first\")\r\n",
        "    return np.corrcoef(ranked_preds, targets)[0, 1]\r\n",
        "\r\n",
        "\r\n",
        "# convenience method for scoring\r\n",
        "def score(df):\r\n",
        "    return correlation(df[PREDICTION_NAME], df[TARGET_NAME])\r\n",
        "\r\n",
        "\r\n",
        "# Payout is just the score cliped at +/-25%\r\n",
        "def payout(scores):\r\n",
        "    return scores.clip(lower=-0.25, upper=0.25)\r\n",
        "\r\n",
        "\r\n",
        "# Read the csv file into a pandas Dataframe as float16 to save space\r\n",
        "def read_csv(file_path):\r\n",
        "    with open(file_path, 'r') as f:\r\n",
        "        column_names = next(csv.reader(f))\r\n",
        "\r\n",
        "    dtypes = {x: np.float16 for x in column_names if x.startswith(('feature', 'target'))}\r\n",
        "    df = pd.read_csv(file_path, dtype=dtypes, index_col=0)\r\n",
        "\r\n",
        "    return df\r\n"
      ],
      "execution_count": 4,
      "outputs": []
    },
    {
      "cell_type": "code",
      "metadata": {
        "colab": {
          "base_uri": "https://localhost:8080/"
        },
        "id": "xk_aSYgwBIJI",
        "outputId": "f784260e-aa7e-4b98-829f-8d4480c42a86"
      },
      "source": [
        "%%time\r\n",
        "print(\"Loading data...\")\r\n",
        "\r\n",
        "training_data = read_csv(f\"{current_ds}/numerai_training_data.csv\")\r\n",
        "tournament_data = read_csv(f\"{current_ds}/numerai_tournament_data.csv\")\r\n",
        "example_preds = read_csv(f\"{current_ds}/example_predictions.csv\")\r\n",
        "validation_data = tournament_data[tournament_data.data_type == \"validation\"]\r\n",
        "\r\n",
        "feature_names = [\r\n",
        "    f for f in training_data.columns if f.startswith(\"feature\")\r\n",
        "]\r\n",
        "print(f\"Loaded {len(feature_names)} features\")"
      ],
      "execution_count": 5,
      "outputs": [
        {
          "output_type": "stream",
          "text": [
            "Loading data...\n",
            "Loaded 310 features\n",
            "CPU times: user 50.2 s, sys: 2.78 s, total: 53 s\n",
            "Wall time: 57.3 s\n"
          ],
          "name": "stdout"
        }
      ]
    },
    {
      "cell_type": "markdown",
      "metadata": {
        "id": "LAHwPKvDRi3o"
      },
      "source": [
        "## predictions"
      ]
    },
    {
      "cell_type": "code",
      "metadata": {
        "colab": {
          "base_uri": "https://localhost:8080/"
        },
        "id": "_Bh62fcTDJ4f",
        "outputId": "1fa4f20d-d072-4cf2-dcc5-155b2fe5a3c3"
      },
      "source": [
        "print(\"Generating predictions...\")\r\n",
        "training_data[PREDICTION_NAME] = np.random.random((len(training_data)))\r\n",
        "tournament_data[PREDICTION_NAME] = np.random.random((len(tournament_data)))"
      ],
      "execution_count": 6,
      "outputs": [
        {
          "output_type": "stream",
          "text": [
            "Generating predictions...\n"
          ],
          "name": "stdout"
        }
      ]
    },
    {
      "cell_type": "code",
      "metadata": {
        "id": "2vGXb6t1SUMg"
      },
      "source": [
        "from numereval import numereval"
      ],
      "execution_count": 7,
      "outputs": []
    },
    {
      "cell_type": "code",
      "metadata": {
        "colab": {
          "base_uri": "https://localhost:8080/",
          "height": 541
        },
        "id": "eK20Fo235NqF",
        "outputId": "28cccd6c-0629-4c97-a10e-c6a4fc740c84"
      },
      "source": [
        "numereval.evaluate(training_data, plot=True, feature_exposure=True)"
      ],
      "execution_count": 9,
      "outputs": [
        {
          "output_type": "display_data",
          "data": {
            "image/png": "[encoded data removed]",
            "text/plain": [
              "<Figure size 432x288 with 1 Axes>"
            ]
          },
          "metadata": {
            "tags": [],
            "needs_background": "light"
          }
        },
        {
          "output_type": "execute_result",
          "data": {
            "text/html": [
              "<div>\n",
              "<style scoped>\n",
              "    .dataframe tbody tr th:only-of-type {\n",
              "        vertical-align: middle;\n",
              "    }\n",
              "\n",
              "    .dataframe tbody tr th {\n",
              "        vertical-align: top;\n",
              "    }\n",
              "\n",
              "    .dataframe thead th {\n",
              "        text-align: right;\n",
              "    }\n",
              "</style>\n",
              "<table border=\"1\" class=\"dataframe\">\n",
              "  <thead>\n",
              "    <tr style=\"text-align: right;\">\n",
              "      <th></th>\n",
              "      <th>metrics</th>\n",
              "    </tr>\n",
              "  </thead>\n",
              "  <tbody>\n",
              "    <tr>\n",
              "      <th>mean</th>\n",
              "      <td>0.0012</td>\n",
              "    </tr>\n",
              "    <tr>\n",
              "      <th>std</th>\n",
              "      <td>0.0162</td>\n",
              "    </tr>\n",
              "    <tr>\n",
              "      <th>sharpe</th>\n",
              "      <td>0.0730</td>\n",
              "    </tr>\n",
              "    <tr>\n",
              "      <th>max_drawdown</th>\n",
              "      <td>-0.1513</td>\n",
              "    </tr>\n",
              "    <tr>\n",
              "      <th>max_feature_exp</th>\n",
              "      <td>0.0451</td>\n",
              "    </tr>\n",
              "    <tr>\n",
              "      <th>feature_exposure</th>\n",
              "      <td>0.0013</td>\n",
              "    </tr>\n",
              "  </tbody>\n",
              "</table>\n",
              "</div>"
            ],
            "text/plain": [
              "                  metrics\n",
              "mean               0.0012\n",
              "std                0.0162\n",
              "sharpe             0.0730\n",
              "max_drawdown      -0.1513\n",
              "max_feature_exp    0.0451\n",
              "feature_exposure   0.0013"
            ]
          },
          "metadata": {
            "tags": []
          },
          "execution_count": 9
        }
      ]
    },
    {
      "cell_type": "code",
      "metadata": {
        "colab": {
          "base_uri": "https://localhost:8080/",
          "height": 667
        },
        "id": "IEsIKYod5NuU",
        "outputId": "a4d8f32a-8cc8-49bd-99be-4ae3dbe9239c"
      },
      "source": [
        "validation_data = tournament_data[tournament_data.data_type==\"validation\"]\r\n",
        "numereval.diagnostics(validation_data, \r\n",
        "                      plot=True, \r\n",
        "                      example_preds_loc=\r\n",
        "                      f\"/content/numerai_dataset_{latest_round}/example_predictions.csv\")"
      ],
      "execution_count": 12,
      "outputs": [
        {
          "output_type": "display_data",
          "data": {
            "image/png": "[encoded data removed]",
            "text/plain": [
              "<Figure size 432x288 with 1 Axes>"
            ]
          },
          "metadata": {
            "tags": [],
            "needs_background": "light"
          }
        },
        {
          "output_type": "stream",
          "text": [
            ""
          ],
          "name": "stdout"
        },
        {
          "output_type": "execute_result",
          "data": {
            "text/html": [
              "<div>\n",
              "<style scoped>\n",
              "    .dataframe tbody tr th:only-of-type {\n",
              "        vertical-align: middle;\n",
              "    }\n",
              "\n",
              "    .dataframe tbody tr th {\n",
              "        vertical-align: top;\n",
              "    }\n",
              "\n",
              "    .dataframe thead th {\n",
              "        text-align: right;\n",
              "    }\n",
              "</style>\n",
              "<table border=\"1\" class=\"dataframe\">\n",
              "  <thead>\n",
              "    <tr style=\"text-align: right;\">\n",
              "      <th></th>\n",
              "      <th>metrics</th>\n",
              "    </tr>\n",
              "  </thead>\n",
              "  <tbody>\n",
              "    <tr>\n",
              "      <th>mean</th>\n",
              "      <td>-0.0025</td>\n",
              "    </tr>\n",
              "    <tr>\n",
              "      <th>std_dev</th>\n",
              "      <td>0.0133</td>\n",
              "    </tr>\n",
              "    <tr>\n",
              "      <th>sharpe</th>\n",
              "      <td>-0.1855</td>\n",
              "    </tr>\n",
              "    <tr>\n",
              "      <th>feat_neutral_mean</th>\n",
              "      <td>-0.0023</td>\n",
              "    </tr>\n",
              "    <tr>\n",
              "      <th>max_drawdown</th>\n",
              "      <td>-0.1299</td>\n",
              "    </tr>\n",
              "    <tr>\n",
              "      <th>max_feature_exp</th>\n",
              "      <td>0.0398</td>\n",
              "    </tr>\n",
              "    <tr>\n",
              "      <th>feature_exposure_mean</th>\n",
              "      <td>0.0027</td>\n",
              "    </tr>\n",
              "    <tr>\n",
              "      <th>mmc_mean</th>\n",
              "      <td>-0.0020</td>\n",
              "    </tr>\n",
              "    <tr>\n",
              "      <th>corr_plus_mmc_sharpe</th>\n",
              "      <td>-0.1895</td>\n",
              "    </tr>\n",
              "    <tr>\n",
              "      <th>corr_example_preds</th>\n",
              "      <td>-0.0009</td>\n",
              "    </tr>\n",
              "  </tbody>\n",
              "</table>\n",
              "</div>"
            ],
            "text/plain": [
              "                       metrics\n",
              "mean                   -0.0025\n",
              "std_dev                 0.0133\n",
              "sharpe                 -0.1855\n",
              "feat_neutral_mean      -0.0023\n",
              "max_drawdown           -0.1299\n",
              "max_feature_exp         0.0398\n",
              "feature_exposure_mean   0.0027\n",
              "mmc_mean               -0.0020\n",
              "corr_plus_mmc_sharpe   -0.1895\n",
              "corr_example_preds     -0.0009"
            ]
          },
          "metadata": {
            "tags": []
          },
          "execution_count": 12
        }
      ]
    },
    {
      "cell_type": "code",
      "metadata": {
        "id": "EgBZfua0C1HK",
        "colab": {
          "base_uri": "https://localhost:8080/",
          "height": 667
        },
        "outputId": "a022f417-c889-4402-bc80-57f542da5e7b"
      },
      "source": [
        "validation_data = tournament_data[tournament_data.data_type == \"validation\"]\r\n",
        "\r\n",
        "#Specific eras in validation set\r\n",
        "eras = validation_data.era.unique()[11:-2]\r\n",
        "\r\n",
        "numereval.diagnostics(\r\n",
        "    validation_data,\r\n",
        "    plot=True,\r\n",
        "    example_preds_loc=\r\n",
        "    f\"/content/numerai_dataset_{latest_round}/example_predictions.csv\",\r\n",
        "    eras=eras,\r\n",
        ")"
      ],
      "execution_count": 13,
      "outputs": [
        {
          "output_type": "display_data",
          "data": {
            "image/png": "[encoded data removed]",
            "text/plain": [
              "<Figure size 432x288 with 1 Axes>"
            ]
          },
          "metadata": {
            "tags": [],
            "needs_background": "light"
          }
        },
        {
          "output_type": "stream",
          "text": [
            ""
          ],
          "name": "stdout"
        },
        {
          "output_type": "execute_result",
          "data": {
            "text/html": [
              "<div>\n",
              "<style scoped>\n",
              "    .dataframe tbody tr th:only-of-type {\n",
              "        vertical-align: middle;\n",
              "    }\n",
              "\n",
              "    .dataframe tbody tr th {\n",
              "        vertical-align: top;\n",
              "    }\n",
              "\n",
              "    .dataframe thead th {\n",
              "        text-align: right;\n",
              "    }\n",
              "</style>\n",
              "<table border=\"1\" class=\"dataframe\">\n",
              "  <thead>\n",
              "    <tr style=\"text-align: right;\">\n",
              "      <th></th>\n",
              "      <th>metrics</th>\n",
              "    </tr>\n",
              "  </thead>\n",
              "  <tbody>\n",
              "    <tr>\n",
              "      <th>mean</th>\n",
              "      <td>-0.0070</td>\n",
              "    </tr>\n",
              "    <tr>\n",
              "      <th>std_dev</th>\n",
              "      <td>0.0114</td>\n",
              "    </tr>\n",
              "    <tr>\n",
              "      <th>sharpe</th>\n",
              "      <td>-0.6152</td>\n",
              "    </tr>\n",
              "    <tr>\n",
              "      <th>feat_neutral_mean</th>\n",
              "      <td>-0.0080</td>\n",
              "    </tr>\n",
              "    <tr>\n",
              "      <th>max_drawdown</th>\n",
              "      <td>-0.0894</td>\n",
              "    </tr>\n",
              "    <tr>\n",
              "      <th>max_feature_exp</th>\n",
              "      <td>0.0391</td>\n",
              "    </tr>\n",
              "    <tr>\n",
              "      <th>feature_exposure_mean</th>\n",
              "      <td>0.0036</td>\n",
              "    </tr>\n",
              "    <tr>\n",
              "      <th>mmc_mean</th>\n",
              "      <td>-0.0055</td>\n",
              "    </tr>\n",
              "    <tr>\n",
              "      <th>corr_plus_mmc_sharpe</th>\n",
              "      <td>-0.6220</td>\n",
              "    </tr>\n",
              "    <tr>\n",
              "      <th>corr_example_preds</th>\n",
              "      <td>-0.0029</td>\n",
              "    </tr>\n",
              "  </tbody>\n",
              "</table>\n",
              "</div>"
            ],
            "text/plain": [
              "                       metrics\n",
              "mean                   -0.0070\n",
              "std_dev                 0.0114\n",
              "sharpe                 -0.6152\n",
              "feat_neutral_mean      -0.0080\n",
              "max_drawdown           -0.0894\n",
              "max_feature_exp         0.0391\n",
              "feature_exposure_mean   0.0036\n",
              "mmc_mean               -0.0055\n",
              "corr_plus_mmc_sharpe   -0.6220\n",
              "corr_example_preds     -0.0029"
            ]
          },
          "metadata": {
            "tags": []
          },
          "execution_count": 13
        }
      ]
    },
    {
      "cell_type": "markdown",
      "metadata": {
        "id": "113ZCMJw7YoA"
      },
      "source": [
        "---"
      ]
    },
    {
      "cell_type": "markdown",
      "metadata": {
        "id": "IbYGhn796zMY"
      },
      "source": [
        "Future work: \r\n",
        "\r\n",
        "1. MMC metrics for training data (which will allow highly customizable train-validation splits)\r\n",
        "2. metrics for Signals"
      ]
    },
    {
      "cell_type": "code",
      "metadata": {
        "id": "IeFukCdwdj2u"
      },
      "source": [
        ""
      ],
      "execution_count": null,
      "outputs": []
    }
  ]
}