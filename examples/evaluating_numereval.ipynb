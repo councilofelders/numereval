{
  "nbformat": 4,
  "nbformat_minor": 0,
  "metadata": {
    "accelerator": "GPU",
    "colab": {
      "name": "evaluating_numereval.ipynb",
      "provenance": [],
      "collapsed_sections": [],
      "include_colab_link": true
    },
    "kernelspec": {
      "display_name": "Python 3",
      "name": "python3"
    }
  },
  "cells": [
    {
      "cell_type": "markdown",
      "metadata": {
        "id": "view-in-github",
        "colab_type": "text"
      },
      "source": [
        "<a href=\"https://colab.research.google.com/github/parmarsuraj99/numereval/blob/master/examples/evaluating_numereval.ipynb\" target=\"_parent\"><img src=\"https://colab.research.google.com/assets/colab-badge.svg\" alt=\"Open In Colab\"/></a>"
      ]
    },
    {
      "cell_type": "markdown",
      "metadata": {
        "id": "l2bmWvp67UI0"
      },
      "source": [
        "## Evaluating Numereval"
      ]
    },
    {
      "cell_type": "code",
      "metadata": {
        "id": "waZGwMKsAigO"
      },
      "source": [
        "!pip install numerapi\r\n",
        "!pip install numereval"
      ],
      "execution_count": null,
      "outputs": []
    },
    {
      "cell_type": "markdown",
      "metadata": {
        "id": "kfP3XxV4AzjP"
      },
      "source": [
        "## Loading Libraries"
      ]
    },
    {
      "cell_type": "code",
      "metadata": {
        "id": "jywU-FxjAifT"
      },
      "source": [
        "import os\r\n",
        "import re\r\n",
        "import gc\r\n",
        "import csv\r\n",
        "import glob\r\n",
        "import time\r\n",
        "from tqdm.auto import tqdm\r\n",
        "import warnings\r\n",
        "warnings.filterwarnings(\"ignore\")\r\n",
        "\r\n",
        "import numerapi\r\n",
        "\r\n",
        "import scipy\r\n",
        "import numpy as np\r\n",
        "import pandas as pd\r\n",
        "import matplotlib.pyplot as plt"
      ],
      "execution_count": 5,
      "outputs": []
    },
    {
      "cell_type": "code",
      "metadata": {
        "colab": {
          "base_uri": "https://localhost:8080/"
        },
        "id": "KHDhP4TJAiZz",
        "outputId": "2e49724c-df40-4032-dfaa-ac79246f51c6"
      },
      "source": [
        "napi = numerapi.NumerAPI(verbosity=\"info\")\r\n",
        "napi.download_current_dataset(unzip=True)\r\n",
        "\r\n",
        "latest_round = napi.get_current_round()\r\n",
        "current_ds = os.path.join('numerai_dataset_'+str(latest_round),'')"
      ],
      "execution_count": 6,
      "outputs": [
        {
          "output_type": "stream",
          "text": [
            "./numerai_dataset_247.zip: 387MB [00:04, 82.2MB/s]                           \n",
            "2021-01-21 03:13:38,620 INFO numerapi.base_api: unzipping file...\n"
          ],
          "name": "stderr"
        }
      ]
    },
    {
      "cell_type": "code",
      "metadata": {
        "id": "UiWPg6WtA8En"
      },
      "source": [
        "TOURNAMENT_NAME = \"nomi\"\r\n",
        "TARGET_NAME = f\"target\"\r\n",
        "PREDICTION_NAME = f\"prediction\"\r\n",
        "\r\n",
        "# Submissions are scored by spearman correlation\r\n",
        "def correlation(predictions, targets):\r\n",
        "    ranked_preds = predictions.rank(pct=True, method=\"first\")\r\n",
        "    return np.corrcoef(ranked_preds, targets)[0, 1]\r\n",
        "\r\n",
        "\r\n",
        "# convenience method for scoring\r\n",
        "def score(df):\r\n",
        "    return correlation(df[PREDICTION_NAME], df[TARGET_NAME])\r\n",
        "\r\n",
        "\r\n",
        "# Payout is just the score cliped at +/-25%\r\n",
        "def payout(scores):\r\n",
        "    return scores.clip(lower=-0.25, upper=0.25)\r\n",
        "\r\n",
        "\r\n",
        "# Read the csv file into a pandas Dataframe as float16 to save space\r\n",
        "def read_csv(file_path):\r\n",
        "    with open(file_path, 'r') as f:\r\n",
        "        column_names = next(csv.reader(f))\r\n",
        "\r\n",
        "    dtypes = {x: np.float16 for x in column_names if x.startswith(('feature', 'target'))}\r\n",
        "    df = pd.read_csv(file_path, dtype=dtypes, index_col=0)\r\n",
        "\r\n",
        "    return df\r\n"
      ],
      "execution_count": 7,
      "outputs": []
    },
    {
      "cell_type": "code",
      "metadata": {
        "colab": {
          "base_uri": "https://localhost:8080/"
        },
        "id": "xk_aSYgwBIJI",
        "outputId": "72e38155-e409-48be-a7e2-a715b3fa4bb0"
      },
      "source": [
        "%%time\r\n",
        "print(\"Loading data...\")\r\n",
        "\r\n",
        "training_data = read_csv(f\"{current_ds}/numerai_training_data.csv\")\r\n",
        "tournament_data = read_csv(f\"{current_ds}/numerai_tournament_data.csv\")\r\n",
        "example_preds = read_csv(f\"{current_ds}/example_predictions.csv\")\r\n",
        "validation_data = tournament_data[tournament_data.data_type == \"validation\"]\r\n",
        "\r\n",
        "feature_names = [\r\n",
        "    f for f in training_data.columns if f.startswith(\"feature\")\r\n",
        "]\r\n",
        "print(f\"Loaded {len(feature_names)} features\")"
      ],
      "execution_count": 8,
      "outputs": [
        {
          "output_type": "stream",
          "text": [
            "Loading data...\n",
            "Loaded 310 features\n",
            "CPU times: user 52.8 s, sys: 2.86 s, total: 55.7 s\n",
            "Wall time: 1min\n"
          ],
          "name": "stdout"
        }
      ]
    },
    {
      "cell_type": "markdown",
      "metadata": {
        "id": "LAHwPKvDRi3o"
      },
      "source": [
        "## predictions"
      ]
    },
    {
      "cell_type": "code",
      "metadata": {
        "colab": {
          "base_uri": "https://localhost:8080/"
        },
        "id": "_Bh62fcTDJ4f",
        "outputId": "21f01a75-e7e0-4435-898b-007388579eb4"
      },
      "source": [
        "print(\"Generating predictions...\")\r\n",
        "training_data[PREDICTION_NAME] = np.random.random((len(training_data)))\r\n",
        "tournament_data[PREDICTION_NAME] = np.random.random((len(tournament_data)))"
      ],
      "execution_count": 9,
      "outputs": [
        {
          "output_type": "stream",
          "text": [
            "Generating predictions...\n"
          ],
          "name": "stdout"
        }
      ]
    },
    {
      "cell_type": "code",
      "metadata": {
        "id": "2vGXb6t1SUMg"
      },
      "source": [
        "from numereval import numereval"
      ],
      "execution_count": 10,
      "outputs": []
    },
    {
      "cell_type": "code",
      "metadata": {
        "colab": {
          "base_uri": "https://localhost:8080/",
          "height": 636
        },
        "id": "IEsIKYod5NuU",
        "outputId": "70ae102b-b672-47dc-fc6d-4c8457ee6e2d"
      },
      "source": [
        "validation_data = tournament_data[tournament_data.data_type==\"validation\"]\r\n",
        "numereval.diagnostics(validation_data, plot=True, \r\n",
        "                                example_preds_loc=f\"/content/numerai_dataset_{latest_round}/example_predictions.csv\")"
      ],
      "execution_count": 13,
      "outputs": [
        {
          "output_type": "display_data",
          "data": {
            "image/png": "[encoded data removed]",
            "text/plain": [
              "<Figure size 432x288 with 1 Axes>"
            ]
          },
          "metadata": {
            "tags": [],
            "needs_background": "light"
          }
        },
        {
          "output_type": "execute_result",
          "data": {
            "text/html": [
              "<div>\n",
              "<style scoped>\n",
              "    .dataframe tbody tr th:only-of-type {\n",
              "        vertical-align: middle;\n",
              "    }\n",
              "\n",
              "    .dataframe tbody tr th {\n",
              "        vertical-align: top;\n",
              "    }\n",
              "\n",
              "    .dataframe thead th {\n",
              "        text-align: right;\n",
              "    }\n",
              "</style>\n",
              "<table border=\"1\" class=\"dataframe\">\n",
              "  <thead>\n",
              "    <tr style=\"text-align: right;\">\n",
              "      <th></th>\n",
              "      <th>0</th>\n",
              "    </tr>\n",
              "  </thead>\n",
              "  <tbody>\n",
              "    <tr>\n",
              "      <th>mean</th>\n",
              "      <td>0.001518</td>\n",
              "    </tr>\n",
              "    <tr>\n",
              "      <th>std</th>\n",
              "      <td>0.012918</td>\n",
              "    </tr>\n",
              "    <tr>\n",
              "      <th>sharpe</th>\n",
              "      <td>0.117549</td>\n",
              "    </tr>\n",
              "    <tr>\n",
              "      <th>max_drawdown</th>\n",
              "      <td>-0.035047</td>\n",
              "    </tr>\n",
              "    <tr>\n",
              "      <th>max_feature_exp</th>\n",
              "      <td>0.040482</td>\n",
              "    </tr>\n",
              "    <tr>\n",
              "      <th>feature_exposure</th>\n",
              "      <td>0.002263</td>\n",
              "    </tr>\n",
              "    <tr>\n",
              "      <th>mmc_mean</th>\n",
              "      <td>0.001120</td>\n",
              "    </tr>\n",
              "    <tr>\n",
              "      <th>corr_plus_mmc_sharpe</th>\n",
              "      <td>0.116091</td>\n",
              "    </tr>\n",
              "    <tr>\n",
              "      <th>corr_plus_mmc_diff</th>\n",
              "      <td>-0.001458</td>\n",
              "    </tr>\n",
              "  </tbody>\n",
              "</table>\n",
              "</div>"
            ],
            "text/plain": [
              "                             0\n",
              "mean                  0.001518\n",
              "std                   0.012918\n",
              "sharpe                0.117549\n",
              "max_drawdown         -0.035047\n",
              "max_feature_exp       0.040482\n",
              "feature_exposure      0.002263\n",
              "mmc_mean              0.001120\n",
              "corr_plus_mmc_sharpe  0.116091\n",
              "corr_plus_mmc_diff   -0.001458"
            ]
          },
          "metadata": {
            "tags": []
          },
          "execution_count": 13
        }
      ]
    },
    {
      "cell_type": "code",
      "metadata": {
        "colab": {
          "base_uri": "https://localhost:8080/",
          "height": 541
        },
        "id": "eK20Fo235NqF",
        "outputId": "7c34731b-b898-427c-8d85-a12b4664824e"
      },
      "source": [
        "numereval.evaluate(training_data, plot=True, feature_exposure=True)"
      ],
      "execution_count": 14,
      "outputs": [
        {
          "output_type": "display_data",
          "data": {
            "image/png": "[encoded data removed]",
            "text/plain": [
              "<Figure size 432x288 with 1 Axes>"
            ]
          },
          "metadata": {
            "tags": [],
            "needs_background": "light"
          }
        },
        {
          "output_type": "execute_result",
          "data": {
            "text/html": [
              "<div>\n",
              "<style scoped>\n",
              "    .dataframe tbody tr th:only-of-type {\n",
              "        vertical-align: middle;\n",
              "    }\n",
              "\n",
              "    .dataframe tbody tr th {\n",
              "        vertical-align: top;\n",
              "    }\n",
              "\n",
              "    .dataframe thead th {\n",
              "        text-align: right;\n",
              "    }\n",
              "</style>\n",
              "<table border=\"1\" class=\"dataframe\">\n",
              "  <thead>\n",
              "    <tr style=\"text-align: right;\">\n",
              "      <th></th>\n",
              "      <th>0</th>\n",
              "    </tr>\n",
              "  </thead>\n",
              "  <tbody>\n",
              "    <tr>\n",
              "      <th>mean</th>\n",
              "      <td>0.001901</td>\n",
              "    </tr>\n",
              "    <tr>\n",
              "      <th>std</th>\n",
              "      <td>0.015564</td>\n",
              "    </tr>\n",
              "    <tr>\n",
              "      <th>sharpe</th>\n",
              "      <td>0.122136</td>\n",
              "    </tr>\n",
              "    <tr>\n",
              "      <th>max_drawdown</th>\n",
              "      <td>-0.152848</td>\n",
              "    </tr>\n",
              "    <tr>\n",
              "      <th>max_feature_exp</th>\n",
              "      <td>0.044698</td>\n",
              "    </tr>\n",
              "    <tr>\n",
              "      <th>feature_exposure</th>\n",
              "      <td>0.001469</td>\n",
              "    </tr>\n",
              "  </tbody>\n",
              "</table>\n",
              "</div>"
            ],
            "text/plain": [
              "                         0\n",
              "mean              0.001901\n",
              "std               0.015564\n",
              "sharpe            0.122136\n",
              "max_drawdown     -0.152848\n",
              "max_feature_exp   0.044698\n",
              "feature_exposure  0.001469"
            ]
          },
          "metadata": {
            "tags": []
          },
          "execution_count": 14
        }
      ]
    },
    {
      "cell_type": "code",
      "metadata": {
        "id": "EgBZfua0C1HK"
      },
      "source": [
        ""
      ],
      "execution_count": null,
      "outputs": []
    },
    {
      "cell_type": "markdown",
      "metadata": {
        "id": "113ZCMJw7YoA"
      },
      "source": [
        "---"
      ]
    },
    {
      "cell_type": "markdown",
      "metadata": {
        "id": "IbYGhn796zMY"
      },
      "source": [
        "Future work: More customization and Signals metrics"
      ]
    }
  ]
}